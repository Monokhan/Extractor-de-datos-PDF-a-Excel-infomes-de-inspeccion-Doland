{
  "nbformat": 4,
  "nbformat_minor": 0,
  "metadata": {
    "colab": {
      "provenance": [],
      "authorship_tag": "ABX9TyP21JzJP5KkmJsthsdm1uj7",
      "include_colab_link": true
    },
    "kernelspec": {
      "name": "python3",
      "display_name": "Python 3"
    },
    "language_info": {
      "name": "python"
    }
  },
  "cells": [
    {
      "cell_type": "markdown",
      "metadata": {
        "id": "view-in-github",
        "colab_type": "text"
      },
      "source": [
        "<a href=\"https://colab.research.google.com/github/Monokhan/Extractor-de-datos-PDF-a-Excel-infomes-de-inspeccion-Doland/blob/main/extractor_de_datos_pdf_a_excel_informes_de_inspeccion_doland.ipynb\" target=\"_parent\"><img src=\"https://colab.research.google.com/assets/colab-badge.svg\" alt=\"Open In Colab\"/></a>"
      ]
    },
    {
      "cell_type": "code",
      "execution_count": null,
      "metadata": {
        "id": "v1W0aMD6ukPK"
      },
      "outputs": [],
      "source": [
        "import os\n",
        "import pdfplumber\n",
        "from openpyxl import Workbook\n",
        "\n",
        "def extract_data_from_pdf(pdf_file):\n",
        "    with pdfplumber.open(pdf_file) as pdf:\n",
        "        pdf_text = \"\"\n",
        "        for page in pdf.pages:\n",
        "            pdf_text += page.extract_text()\n",
        "    return pdf_text\n",
        "\n",
        "def extract_info(pdf_text):\n",
        "    info_list = []\n",
        "    variables = [\n",
        "        \"Número de Reporte: \",\n",
        "        \"Cliente: \",\n",
        "        \"Faena: \",\n",
        "        \"Area: \",\n",
        "        \"Fecha de Reporte: \",\n",
        "        \"Responsable del Reporte: \",\n",
        "        \"Descripcion: \",\n",
        "        \"Código Único del Producto: \",\n",
        "        \"Estado del Producto: \",\n",
        "        \"Comentario: \",\n",
        "        \"Causas: \",\n",
        "        \"Item: \"\n",
        "    ]\n",
        "    for page_text in pdf_text.split(\"\\f\"):  # Split text by page\n",
        "        info = {}\n",
        "        for var in variables:\n",
        "            var_info = []\n",
        "            start_index = page_text.find(var)\n",
        "            while start_index != -1:\n",
        "                end_index = page_text.find(\"\\n\", start_index)\n",
        "                var_info.append(page_text[start_index + len(var):end_index].strip())\n",
        "                start_index = page_text.find(var, end_index)\n",
        "            info[var] = \";\".join(var_info) if var_info else \"0\"  # Store as a comma-separated string\n",
        "        info_list.append(info)\n",
        "    return info_list\n",
        "# ruta de acceso a los datos a extraer.\n",
        "def main():\n",
        "    folder_path = r\"C:\\Users\\mizai\\OneDrive\\Desktop\\Finning el teniente\"\n",
        "    pdf_files = [\n",
        "        r\"C:\\Users\\mizai\\OneDrive\\Desktop\\Finning el teniente\\INFORME_22944_AICC_2024-09-03.pdf\",\n",
        "r\"C:\\Users\\mizai\\OneDrive\\Desktop\\Finning el teniente\\INFORME_22945_AICC_2024-09-03.pdf\",\n",
        "r\"C:\\Users\\mizai\\OneDrive\\Desktop\\Finning el teniente\\INFORME_22946_AICC_2024-09-03.pdf\",\n",
        "    ]\n",
        "    output_file = os.path.join(folder_path, \"datos1.xlsx\")\n",
        "\n",
        "    wb = Workbook()\n",
        "    ws = wb.active\n",
        "\n",
        "    for file_name in pdf_files:\n",
        "        pdf_path = os.path.join(folder_path, file_name)\n",
        "        pdf_text = extract_data_from_pdf(pdf_path)\n",
        "        info_list = extract_info(pdf_text)\n",
        "\n",
        "        # Headers\n",
        "        headers = set()\n",
        "        for info in info_list:\n",
        "            headers.update(info.keys())\n",
        "        ws.append(list(headers))\n",
        "\n",
        "        # Data\n",
        "        for info in info_list:\n",
        "            row_data = [info.get(header, \"0\") for header in headers]\n",
        "            ws.append(row_data)\n",
        "\n",
        "    wb.save(output_file)\n",
        "    print(\"Datos extraídos y guardados correctamente en\", output_file)\n",
        "\n",
        "if __name__ == \"__main__\":\n",
        "    main()"
      ]
    },
    {
      "cell_type": "markdown",
      "source": [
        "# El archivo excel se guardara bajo el nombre de datos1.xlsx en la carpeta de definida, los datos se guardaran en filas separados por \";\" .\n",
        "# En Excel se sugiere usar \"=Trasponer(dividirtexto(A n°,\";\"))\" para trasponer la informacion en columnas separadas por \";\".\n",
        "# repetir el paso anterior las veces que sean necesarias por informes.\n",
        "# las tablas obtenidas quedan mejor para la limpieza de datos.\n"
      ],
      "metadata": {
        "id": "rRvV3frOAplE"
      }
    }
  ]
}